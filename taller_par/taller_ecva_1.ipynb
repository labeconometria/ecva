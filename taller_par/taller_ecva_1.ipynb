{
  "nbformat": 4,
  "nbformat_minor": 0,
  "metadata": {
    "colab": {
      "provenance": []
    },
    "kernelspec": {
      "name": "python3",
      "display_name": "Python 3"
    },
    "language_info": {
      "name": "python"
    }
  },
  "cells": [
    {
      "cell_type": "markdown",
      "source": [
        "# Taller: efecto de una arteria sobre los precios de la vivienda \n",
        "\n",
        "El siguiente taller es opcional. Usted puede decidir hacerlo o no, no tendrá efecto en su nota si no lo hace, pero si decide hacerlo y lo entrega, tendrá un valor del 7% sobre la nota del parcial final."
      ],
      "metadata": {
        "id": "UwlNKZo7DNUf"
      }
    },
    {
      "cell_type": "markdown",
      "source": [
        "El dataset a analizar y con el cual se va a modelar contiene las siguientes variables:\n",
        "\n",
        "`LotArea`: area del inmueble\n",
        "\n",
        "`OverallQual`: calidad general del inmueble\n",
        "\n",
        "`OverallCond`: condición general del inmueble\n",
        "\n",
        "`YearBuilt`: año de construcción\n",
        "\n",
        "`YearRemodAdd`: año de remodelación\n",
        "\n",
        "`ExterQual`: calidad de la fachada\n",
        "\n",
        "`ExterCond`: condición de la fachada\n",
        "\n",
        "`BedroomAbvGr`: habitaciones\n",
        "\n",
        "`GarageCars`: número de garajes\n",
        "\n",
        "`PoolArea`: área de la piscina\n",
        "\n",
        "`SalePrice`: precio de venta\n",
        "\n",
        "`Artery`: tiene o no una árteria cerca\n",
        "\n",
        "El objetivo es responder a la pregunta ¿cuál es el efecto de una arteria sobre el precio de la vivienda?"
      ],
      "metadata": {
        "id": "giOocsUCFnFD"
      }
    },
    {
      "cell_type": "markdown",
      "source": [
        "## Importación de librerías y datos"
      ],
      "metadata": {
        "id": "JQVOcThvDbZU"
      }
    },
    {
      "cell_type": "code",
      "execution_count": null,
      "metadata": {
        "id": "8MWZ5-DLDM55"
      },
      "outputs": [],
      "source": [
        "# importe las librerías que considere necesarias para manipular datos"
      ]
    },
    {
      "cell_type": "code",
      "source": [
        "# importe la base de datos que acompaña este notebook"
      ],
      "metadata": {
        "id": "bcmfayQUFA_1"
      },
      "execution_count": null,
      "outputs": []
    },
    {
      "cell_type": "markdown",
      "source": [
        "## Exploración inicial"
      ],
      "metadata": {
        "id": "EZbJtcrRDej7"
      }
    },
    {
      "cell_type": "code",
      "source": [
        "# observe los primeros 10 datos de la tabla y concluya"
      ],
      "metadata": {
        "id": "6Ze0PZgwDkmP"
      },
      "execution_count": null,
      "outputs": []
    },
    {
      "cell_type": "code",
      "source": [
        "# observe los últimos 10 datos de la tabla y concluya"
      ],
      "metadata": {
        "id": "sj1VOE3hD_Vz"
      },
      "execution_count": null,
      "outputs": []
    },
    {
      "cell_type": "code",
      "source": [
        "# obtenga información general de los datos (número de filas, columnas, datos faltantes, tipos de datos) y concluya"
      ],
      "metadata": {
        "id": "Z49Rx8WnD_RY"
      },
      "execution_count": null,
      "outputs": []
    },
    {
      "cell_type": "code",
      "source": [
        "# obtenga una descripción general de los datos y concluya"
      ],
      "metadata": {
        "id": "jdZmye6tD_Lt"
      },
      "execution_count": null,
      "outputs": []
    },
    {
      "cell_type": "markdown",
      "source": [
        "### Verificación de duplicados"
      ],
      "metadata": {
        "id": "C8W_DsByG6bf"
      }
    },
    {
      "cell_type": "code",
      "source": [
        "# verifique si hay duplicados y elimínelos"
      ],
      "metadata": {
        "id": "mip3nd0MG-q_"
      },
      "execution_count": null,
      "outputs": []
    },
    {
      "cell_type": "markdown",
      "source": [
        "### Verificación de datos nulos"
      ],
      "metadata": {
        "id": "qS0a0hp5G9MC"
      }
    },
    {
      "cell_type": "code",
      "source": [
        "# verifique si hay datos nulos y elimínelos"
      ],
      "metadata": {
        "id": "yqVLNAd7HB9O"
      },
      "execution_count": null,
      "outputs": []
    },
    {
      "cell_type": "markdown",
      "source": [
        "## Visualización de datos"
      ],
      "metadata": {
        "id": "Hr5TRSPQDk5o"
      }
    },
    {
      "cell_type": "markdown",
      "source": [
        "### Visualización univariada"
      ],
      "metadata": {
        "id": "y8Iav8D_DmkQ"
      }
    },
    {
      "cell_type": "code",
      "source": [
        "# para datos continuos o discretos (si los hay) emplee histogramas y concluya para cada gráfico (uno por variable)"
      ],
      "metadata": {
        "id": "BEPOCWPVDny_"
      },
      "execution_count": null,
      "outputs": []
    },
    {
      "cell_type": "code",
      "source": [
        "# para datos categóricos (si los hay) emplee un diagrama de barras y concluya para cada gráfico (uno por variable)"
      ],
      "metadata": {
        "id": "hhyNZUO6ER6Y"
      },
      "execution_count": null,
      "outputs": []
    },
    {
      "cell_type": "markdown",
      "source": [
        "### Visualización bivariada"
      ],
      "metadata": {
        "id": "4er-31viDoNR"
      }
    },
    {
      "cell_type": "code",
      "source": [
        "# para identificar relaciones entre la variable objetivo (precio) y variables continuas utilice diagramas de dispersión y concluya para cada gráfico (uno por relación)"
      ],
      "metadata": {
        "id": "wWPYQAsbDu1b"
      },
      "execution_count": null,
      "outputs": []
    },
    {
      "cell_type": "code",
      "source": [
        "# para identificar relaciones entre la variable objetivo (precio) y variables categóricas utilice boxplots y concluya para cada gráfico (uno por relación)"
      ],
      "metadata": {
        "id": "mWGo97eUEclO"
      },
      "execution_count": null,
      "outputs": []
    },
    {
      "cell_type": "markdown",
      "source": [
        "## Análisis de correlación"
      ],
      "metadata": {
        "id": "sc-AmVLJDrN_"
      }
    },
    {
      "cell_type": "code",
      "source": [
        "# construya una matriz de correlación haciendo uso del método de pearson y concluya"
      ],
      "metadata": {
        "id": "X665FjAxDudN"
      },
      "execution_count": null,
      "outputs": []
    },
    {
      "cell_type": "code",
      "source": [
        "# construya una matriz de correlación haciendo uso del método de spearman y concluya"
      ],
      "metadata": {
        "id": "NlcEF9A_EkiR"
      },
      "execution_count": null,
      "outputs": []
    },
    {
      "cell_type": "markdown",
      "source": [
        "## Modelamiento"
      ],
      "metadata": {
        "id": "QX5NJNUSDt_j"
      }
    },
    {
      "cell_type": "code",
      "source": [
        "# realice una selección de variables para el modelo (precio es el objetivo, arteria debe estar incluida y otras cinco variables que considere relevantes)\n",
        "# verifique que entre las variables seleccionadas no incluya dos o más que entreguen el mismo tipo de información\n",
        "# por ejemplo, overallqual y overallcond pueden estar diciendo lo mismo de manera diferente"
      ],
      "metadata": {
        "id": "Q1O-XNY9GmJZ"
      },
      "execution_count": null,
      "outputs": []
    },
    {
      "cell_type": "code",
      "source": [
        "# identifique a través de una regresión el efecto de una arteria sobre el precio, no olvide las variables de control"
      ],
      "metadata": {
        "id": "8j-8TLPiD2RV"
      },
      "execution_count": null,
      "outputs": []
    },
    {
      "cell_type": "markdown",
      "source": [
        "## Interpretación del modelo"
      ],
      "metadata": {
        "id": "uTn-nsnHDoLD"
      }
    },
    {
      "cell_type": "code",
      "source": [
        "# interprete el efecto y evalúe la significancia estadística de la variable arteria y para cada una de las variables de control"
      ],
      "metadata": {
        "id": "KqNeu2quD2n8"
      },
      "execution_count": null,
      "outputs": []
    },
    {
      "cell_type": "markdown",
      "source": [
        "## Conclusiones generales"
      ],
      "metadata": {
        "id": "Rrot16LYDyy3"
      }
    },
    {
      "cell_type": "code",
      "source": [
        "# concluya sobre lo desarrollado y lo encontrado"
      ],
      "metadata": {
        "id": "iQtpvnKVD3WT"
      },
      "execution_count": null,
      "outputs": []
    }
  ]
}